{
 "cells": [
  {
   "cell_type": "code",
   "execution_count": null,
   "id": "02c98865",
   "metadata": {},
   "outputs": [],
   "source": [
    "# Install Dependencies\n",
    "\n",
    "!pip install -q sentence-transformers pymongo python-dotenv tqdm"
   ]
  },
  {
   "cell_type": "code",
   "execution_count": null,
   "id": "798bb848",
   "metadata": {},
   "outputs": [],
   "source": [
    "# Import Dependencies\n",
    "\n",
    "from sentence_transformers import SentenceTransformer\n",
    "from pymongo import MongoClient\n",
    "from dotenv import load_dotenv\n",
    "from tqdm import tqdm\n",
    "import os"
   ]
  },
  {
   "cell_type": "code",
   "execution_count": null,
   "id": "08eb9ac1",
   "metadata": {},
   "outputs": [],
   "source": [
    "# Load the environment variables\n",
    "\n",
    "load_dotenv()\n",
    "\n",
    "MONGO_URI = os.getenv(\"MONGO_URI\")\n",
    "DB_NAME = os.getenv(\"DATABASE_NAME\")\n",
    "COLLECTION_NAME = os.getenv(\"COLLECTION_NAME\")\n",
    "\n",
    "if not all([MONGO_URI, DB_NAME, COLLECTION_NAME]):\n",
    "    raise ValueError(\"Missing environment variables. Check your .env file\")"
   ]
  },
  {
   "cell_type": "code",
   "execution_count": null,
   "id": "a3a70a1f",
   "metadata": {},
   "outputs": [],
   "source": [
    "# Connect to MongoDB\n",
    "\n",
    "client = MongoClient(MONGO_URI)\n",
    "db = client[DB_NAME]\n",
    "collection = db[COLLECTION_NAME]\n",
    "\n",
    "print(f\"Connected to MongoDB!\")"
   ]
  },
  {
   "cell_type": "code",
   "execution_count": null,
   "id": "ef80e1b9",
   "metadata": {},
   "outputs": [],
   "source": [
    "# Load embedding model\n",
    "\n",
    "model = SentenceTransformer(\"all-MiniLM-L6-v2\")\n",
    "print(\"Embedding model loaded successfully\")"
   ]
  },
  {
   "cell_type": "code",
   "execution_count": null,
   "id": "6bc54510",
   "metadata": {},
   "outputs": [],
   "source": [
    "# Load a sample dataset\n",
    "\n",
    "dataset = [\n",
    "    \"Artificial intelligence is transforming the healthcare industry\",\n",
    "    \"Machine learning models are improving risk assessment\",\n",
    "    \"Adaptive learning systems personalize education\"\n",
    "]\n",
    "\n",
    "print(f\"Loaded {len(dataset)} documents\")"
   ]
  },
  {
   "cell_type": "code",
   "execution_count": null,
   "id": "58b9fea0",
   "metadata": {},
   "outputs": [],
   "source": [
    "# Embed the dataset and store into the vectorDB\n",
    "\n",
    "for text in tqdm(dataset, desc=\"Uploading to MongoDB\"):\n",
    "    embedding = model.encode(text, normalize_embeddings=True).tolist()\n",
    "\n",
    "    record = {\n",
    "        \"text\": text,\n",
    "        \"embedding\": embedding\n",
    "    }\n",
    "\n",
    "    collection.update_one({\"text\": text}, {\"$set\": record}, upsert=True)\n",
    "    \n",
    "print(\"All documents embedded and uploaded successfully!\")"
   ]
  },
  {
   "cell_type": "code",
   "execution_count": null,
   "id": "c862532d",
   "metadata": {},
   "outputs": [],
   "source": [
    "# Get Vector Embedding\n",
    "query_text = \"Artificial intelligence\"\n",
    "query_embedding = model.encode(query_text).tolist()\n",
    "\n",
    "# Run vector search\n",
    "pipeline = [\n",
    "    {\n",
    "        \"$vectorSearch\": {\n",
    "            \"queryVector\": query_embedding,\n",
    "            \"path\": \"embedding\",\n",
    "            \"numCandidates\": 100,\n",
    "            \"limit\": 3,\n",
    "            \"index\": \"vector_index\",  # use your actual index name if different\n",
    "            \"similarity\": \"cosine\"\n",
    "        }\n",
    "    },\n",
    "    {\n",
    "        \"$project\": {\n",
    "            \"_id\": 0,\n",
    "            \"text\": 1,\n",
    "            \"score\": {\"$meta\": \"vectorSearchScore\"}\n",
    "        }\n",
    "    }\n",
    "]\n",
    "\n",
    "results = list(collection.aggregate(pipeline))\n",
    "\n",
    "# Print the top matches\n",
    "print(\"🔍 Top Retrieved Results:\")\n",
    "for r in results:\n",
    "    print(f\"Score: {r['score']:.4f} | Text: {r['text'][:150]}...\")"
   ]
  }
 ],
 "metadata": {
  "kernelspec": {
   "display_name": "venv",
   "language": "python",
   "name": "python3"
  },
  "language_info": {
   "codemirror_mode": {
    "name": "ipython",
    "version": 3
   },
   "file_extension": ".py",
   "mimetype": "text/x-python",
   "name": "python",
   "nbconvert_exporter": "python",
   "pygments_lexer": "ipython3",
   "version": "3.13.3"
  }
 },
 "nbformat": 4,
 "nbformat_minor": 5
}
